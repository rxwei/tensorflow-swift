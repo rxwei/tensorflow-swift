{
  "nbformat": 4,
  "nbformat_minor": 0,
  "metadata": {
    "colab": {
      "name": "A Swift Tour.ipynb",
      "version": "0.3.2",
      "provenance": [],
      "collapsed_sections": []
    },
    "kernelspec": {
      "display_name": "Swift",
      "language": "swift",
      "name": "swift"
    }
  },
  "cells": [
    {
      "metadata": {
        "id": "QdsgF9Mxj0gr",
        "colab_type": "text"
      },
      "cell_type": "markdown",
      "source": [
        "##### Copyright 2018 The TensorFlow Authors."
      ]
    },
    {
      "metadata": {
        "id": "D-AoTWt4jui7",
        "colab_type": "code",
        "colab": {}
      },
      "cell_type": "code",
      "source": [
        "#@title Licensed under the Apache License, Version 2.0 (the \"License\"); { display-mode: \"form\" }\n",
        "// Licensed under the Apache License, Version 2.0 (the \"License\");\n",
        "// you may not use this file except in compliance with the License.\n",
        "// You may obtain a copy of the License at\n",
        "//\n",
        "// https://www.apache.org/licenses/LICENSE-2.0\n",
        "//\n",
        "// Unless required by applicable law or agreed to in writing, software\n",
        "// distributed under the License is distributed on an \"AS IS\" BASIS,\n",
        "// WITHOUT WARRANTIES OR CONDITIONS OF ANY KIND, either express or implied.\n",
        "// See the License for the specific language governing permissions and\n",
        "// limitations under the License."
      ],
      "execution_count": 0,
      "outputs": []
    },
    {
      "metadata": {
        "id": "673eaebJdE12",
        "colab_type": "text"
      },
      "cell_type": "markdown",
      "source": [
        "A Swift Tour\n",
        "------------\n",
        "\n",
        "This notebook is adapted from the original [*A Swift Tour*](https://docs.swift.org/swift-book/GuidedTour/GuidedTour.html) at [Swift.org](https://swift.org).\n",
        "\n",
        "Tradition suggests that the first program in a new language should print the words “Hello, world!” on the screen. In Swift, this can be done in a single line:"
      ]
    },
    {
      "metadata": {
        "id": "iNHY9-pzdE13",
        "colab_type": "code",
        "outputId": "e1c49539-7b53-437f-f5cb-3a1099816d13",
        "colab": {
          "base_uri": "https://localhost:8080/",
          "height": 34
        }
      },
      "cell_type": "code",
      "source": [
        "print(\"Hello, world!\")"
      ],
      "execution_count": 0,
      "outputs": [
        {
          "output_type": "stream",
          "text": [
            "Hello, world!\r\n"
          ],
          "name": "stdout"
        }
      ]
    },
    {
      "metadata": {
        "id": "jdHsgXTYdE17",
        "colab_type": "text"
      },
      "cell_type": "markdown",
      "source": [
        "If you have written code in C or Objective-C, this syntax looks familiar to you—in Swift, this line of code is a complete program. You don’t need to import a separate library for functionality like input/output or string handling. Code written at global scope is used as the entry point for the program, so you don’t need a `main()` function. You also don’t need to write semicolons at the end of every statement.\n",
        "\n",
        "This tour gives you enough information to start writing code in Swift by showing you how to accomplish a variety of programming tasks. Don’t worry if you don’t understand something—everything introduced in this tour is explained in detail in the rest of this book."
      ]
    },
    {
      "metadata": {
        "id": "OihtZA6QhEZS",
        "colab_type": "text"
      },
      "cell_type": "markdown",
      "source": [
        "### Simple Values\n",
        "\n",
        "Use `let` to make a constant and `var` to make a variable. The value of a constant doesn’t need to be known at compile time, but you must assign it a value exactly once. This means you can use constants to name a value that you determine once but use in many places."
      ]
    },
    {
      "metadata": {
        "id": "p_pjyevTdE18",
        "colab_type": "code",
        "colab": {}
      },
      "cell_type": "code",
      "source": [
        "var myVariable = 42\n",
        "myVariable = 50\n",
        "let myConstant = 42"
      ],
      "execution_count": 0,
      "outputs": []
    },
    {
      "metadata": {
        "id": "A7S47TpWdE1-",
        "colab_type": "text"
      },
      "cell_type": "markdown",
      "source": [
        "A constant or variable must have the same type as the value you want to assign to it. However, you don’t always have to write the type explicitly. Providing a value when you create a constant or variable lets the compiler infer its type. In the example above, the compiler infers that `myVariable` is an integer because its initial value is an integer.\n",
        "\n",
        "If the initial value doesn’t provide enough information (or if there is no initial value), specify the type by writing it after the variable, separated by a colon."
      ]
    },
    {
      "metadata": {
        "id": "RDo7IwtmdE1_",
        "colab_type": "code",
        "colab": {}
      },
      "cell_type": "code",
      "source": [
        "let implicitInteger = 70\n",
        "let implicitDouble = 70.0\n",
        "let explicitDouble: Double = 70"
      ],
      "execution_count": 0,
      "outputs": []
    },
    {
      "metadata": {
        "id": "KN8H90fLdE2B",
        "colab_type": "text"
      },
      "cell_type": "markdown",
      "source": [
        "#### Experiment\n",
        "\n",
        "Create a constant with an explicit type of `Float` and a value of `4`.\n",
        "\n",
        "Values are never implicitly converted to another type. If you need to convert a value to a different type, explicitly make an instance of the desired type."
      ]
    },
    {
      "metadata": {
        "id": "rPuJLYsHdE2C",
        "colab_type": "code",
        "outputId": "918b4a20-c2b4-440a-ccc4-69fbae0c2d2b",
        "colab": {
          "base_uri": "https://localhost:8080/",
          "height": 34
        }
      },
      "cell_type": "code",
      "source": [
        "let label = \"The width is \"\n",
        "let width = 94\n",
        "label + String(width)"
      ],
      "execution_count": 0,
      "outputs": [
        {
          "output_type": "execute_result",
          "data": {
            "text/plain": [
              "\"The width is 94\"\n"
            ]
          },
          "metadata": {
            "tags": []
          },
          "execution_count": 5
        }
      ]
    },
    {
      "metadata": {
        "id": "WP5q9yLCdE2E",
        "colab_type": "text"
      },
      "cell_type": "markdown",
      "source": [
        "#### Experiment\n",
        "\n",
        "Try removing the conversion to `String` from the last line. What error do you get?\n",
        "\n",
        "There’s an even simpler way to include values in strings: Write the value in parentheses, and write a backslash (`\\`) before the parentheses. For example:"
      ]
    },
    {
      "metadata": {
        "id": "p7_ZbBmudE2F",
        "colab_type": "code",
        "outputId": "43fbf951-b5f3-4e25-fecf-c19ba53a226c",
        "colab": {
          "base_uri": "https://localhost:8080/",
          "height": 34
        }
      },
      "cell_type": "code",
      "source": [
        "let apples = 3\n",
        "\"I have \\(apples) apples.\""
      ],
      "execution_count": 0,
      "outputs": [
        {
          "output_type": "execute_result",
          "data": {
            "text/plain": [
              "\"I have 3 apples.\"\n"
            ]
          },
          "metadata": {
            "tags": []
          },
          "execution_count": 9
        }
      ]
    },
    {
      "metadata": {
        "id": "-hVfKbl0hbgM",
        "colab_type": "code",
        "outputId": "e2d6d144-9b54-49c1-c159-bc95f3b0c5aa",
        "colab": {
          "base_uri": "https://localhost:8080/",
          "height": 34
        }
      },
      "cell_type": "code",
      "source": [
        "let oranges = 5\n",
        "\"I have \\(apples + oranges) pieces of fruit.\""
      ],
      "execution_count": 0,
      "outputs": [
        {
          "output_type": "execute_result",
          "data": {
            "text/plain": [
              "\"I have 8 pieces of fruit.\"\n"
            ]
          },
          "metadata": {
            "tags": []
          },
          "execution_count": 8
        }
      ]
    },
    {
      "metadata": {
        "id": "To8-oxWUdE2H",
        "colab_type": "text"
      },
      "cell_type": "markdown",
      "source": [
        "#### Experiment\n",
        "\n",
        "Use `()` to include a floating-point calculation in a string and to include someone’s name in a greeting.\n",
        "\n",
        "Create arrays and dictionaries using brackets (`[]`), and access their elements by writing the index or key in brackets. A comma is allowed after the last element."
      ]
    },
    {
      "metadata": {
        "id": "BI46PGfQdE2I",
        "colab_type": "code",
        "outputId": "a28fd981-fd5f-4399-d110-8cc5f023fb4c",
        "colab": {
          "base_uri": "https://localhost:8080/",
          "height": 187
        }
      },
      "cell_type": "code",
      "source": [
        "var shoppingList = [\"catfish\", \"water\", \"tulips\", \"blue paint\"]\n",
        "shoppingList[1] = \"bottle of water\"\n",
        " \n",
        "var occupations = [\n",
        "    \"Malcolm\": \"Captain\",\n",
        "    \"Kaylee\": \"Mechanic\",\n",
        "]\n",
        "occupations[\"Jayne\"] = \"Public Relations\"\n",
        "occupations"
      ],
      "execution_count": 0,
      "outputs": [
        {
          "output_type": "execute_result",
          "data": {
            "text/plain": [
              "▿ 3 elements\n",
              "  ▿ 0 : 2 elements\n",
              "    - key : \"Malcolm\"\n",
              "    - value : \"Captain\"\n",
              "  ▿ 1 : 2 elements\n",
              "    - key : \"Kaylee\"\n",
              "    - value : \"Mechanic\"\n",
              "  ▿ 2 : 2 elements\n",
              "    - key : \"Jayne\"\n",
              "    - value : \"Public Relations\"\n"
            ]
          },
          "metadata": {
            "tags": []
          },
          "execution_count": 10
        }
      ]
    },
    {
      "metadata": {
        "id": "P_F6ODC6dE2L",
        "colab_type": "text"
      },
      "cell_type": "markdown",
      "source": [
        "To create an empty array or dictionary, use the initializer syntax."
      ]
    },
    {
      "metadata": {
        "id": "pZ0hFNzXdE2M",
        "colab_type": "code",
        "colab": {}
      },
      "cell_type": "code",
      "source": [
        "let emptyArray = [String]()\n",
        "let emptyDictionary = [String: Float]()"
      ],
      "execution_count": 0,
      "outputs": []
    },
    {
      "metadata": {
        "id": "r88SNR3mdE2Q",
        "colab_type": "text"
      },
      "cell_type": "markdown",
      "source": [
        "If type information can be inferred, you can write an empty array as `[]` and an empty dictionary as `[:]` — for example, when you set a new value for a variable or pass an argument to a function."
      ]
    },
    {
      "metadata": {
        "id": "LrmOoh8HdE2R",
        "colab_type": "code",
        "colab": {}
      },
      "cell_type": "code",
      "source": [
        "shoppingList = []\n",
        "occupations = [:]"
      ],
      "execution_count": 0,
      "outputs": []
    },
    {
      "metadata": {
        "id": "IcyJIWOqdE2T",
        "colab_type": "text"
      },
      "cell_type": "markdown",
      "source": [
        "### Control Flow\n",
        "\n",
        "Use `if` and `switch` to make conditionals, and use `for`-`in`, `for`, `while`, and `repeat`-`while` to make loops. Parentheses around the condition or loop variable are optional. Braces around the body are required."
      ]
    },
    {
      "metadata": {
        "id": "QhcmCbQydE2U",
        "colab_type": "code",
        "outputId": "cc374fdb-c762-441a-e9cd-9fdb099eeda1",
        "colab": {
          "base_uri": "https://localhost:8080/",
          "height": 34
        }
      },
      "cell_type": "code",
      "source": [
        "let individualScores = [75, 43, 103, 87, 12]\n",
        "var teamScore = 0\n",
        "for score in individualScores {\n",
        "    if score > 50 {\n",
        "        teamScore += 3\n",
        "    } else {\n",
        "        teamScore += 1\n",
        "    }\n",
        "}\n",
        "teamScore"
      ],
      "execution_count": 0,
      "outputs": [
        {
          "output_type": "execute_result",
          "data": {
            "text/plain": [
              "11\n"
            ]
          },
          "metadata": {
            "tags": []
          },
          "execution_count": 13
        }
      ]
    },
    {
      "metadata": {
        "id": "VfEX-a-JdE2W",
        "colab_type": "text"
      },
      "cell_type": "markdown",
      "source": [
        "In an `if` statement, the conditional must be a Boolean expression—this means that code such as `if score { ... }` is an error, not an implicit comparison to zero.\n",
        "\n",
        "You can use `if` and `let` together to work with values that might be missing. These values are represented as optionals. An optional value either contains a value or contains `nil` to indicate that a value is missing. Write a question mark (`?`) after the type of a value to mark the value as optional."
      ]
    },
    {
      "metadata": {
        "id": "fCqYihmIdE2X",
        "colab_type": "code",
        "outputId": "29b0bb93-283a-4552-eebe-d95f983e460e",
        "colab": {
          "base_uri": "https://localhost:8080/",
          "height": 34
        }
      },
      "cell_type": "code",
      "source": [
        "var optionalString: String? = \"Hello\"\n",
        "optionalString == nil"
      ],
      "execution_count": 0,
      "outputs": [
        {
          "output_type": "execute_result",
          "data": {
            "text/plain": [
              "false\n"
            ]
          },
          "metadata": {
            "tags": []
          },
          "execution_count": 17
        }
      ]
    },
    {
      "metadata": {
        "id": "3GcY1w13hv82",
        "colab_type": "code",
        "outputId": "3bf0bfc3-1af7-498d-b1a2-9acbb36c3d46",
        "colab": {
          "base_uri": "https://localhost:8080/",
          "height": 34
        }
      },
      "cell_type": "code",
      "source": [
        "var optionalName: String? = \"John Appleseed\"\n",
        "var greeting = \"Hello!\"\n",
        "if let name = optionalName {\n",
        "    greeting = \"Hello, \\(name)\"\n",
        "}\n",
        "greeting"
      ],
      "execution_count": 0,
      "outputs": [
        {
          "output_type": "execute_result",
          "data": {
            "text/plain": [
              "\"Hello, John Appleseed\"\n"
            ]
          },
          "metadata": {
            "tags": []
          },
          "execution_count": 18
        }
      ]
    },
    {
      "metadata": {
        "id": "pAbvqWKDdE2a",
        "colab_type": "text"
      },
      "cell_type": "markdown",
      "source": [
        "#### Experiment\n",
        "\n",
        "Change `optionalName` to `nil`. What greeting do you get? Add an `else` clause that sets a different greeting if `optionalName` is `nil`.\n",
        "\n",
        "If the optional value is `nil`, the conditional is `false` and the code in braces is skipped. Otherwise, the optional value is unwrapped and assigned to the constant after `let`, which makes the unwrapped value available inside the block of code.\n",
        "\n",
        "Another way to handle optional values is to provide a default value using the `??` operator. If the optional value is missing, the default value is used instead."
      ]
    },
    {
      "metadata": {
        "id": "UqstABf4dE2b",
        "colab_type": "code",
        "outputId": "9f67668c-f771-4453-99ce-f34bc38ae0b4",
        "colab": {
          "base_uri": "https://localhost:8080/",
          "height": 34
        }
      },
      "cell_type": "code",
      "source": [
        "let nickName: String? = nil\n",
        "let fullName: String = \"John Appleseed\"\n",
        "\"Hi \\(nickName ?? fullName)\""
      ],
      "execution_count": 0,
      "outputs": [
        {
          "output_type": "execute_result",
          "data": {
            "text/plain": [
              "\"Hi John Appleseed\"\n"
            ]
          },
          "metadata": {
            "tags": []
          },
          "execution_count": 19
        }
      ]
    },
    {
      "metadata": {
        "id": "l_3enGZldE2d",
        "colab_type": "text"
      },
      "cell_type": "markdown",
      "source": [
        "Switches support any kind of data and a wide variety of comparison operations—they aren’t limited to integers and tests for equality."
      ]
    },
    {
      "metadata": {
        "id": "AXTHsCcedE2e",
        "colab_type": "code",
        "outputId": "c0b0512f-207d-4575-c935-ce54b9e99052",
        "colab": {
          "base_uri": "https://localhost:8080/",
          "height": 34
        }
      },
      "cell_type": "code",
      "source": [
        "let vegetable = \"red pepper\"\n",
        "switch vegetable {\n",
        "case \"celery\":\n",
        "    print(\"Add some raisins and make ants on a log.\")\n",
        "case \"cucumber\", \"watercress\":\n",
        "    print(\"That would make a good tea sandwich.\")\n",
        "case let x where x.hasSuffix(\"pepper\"):\n",
        "    print(\"Is it a spicy \\(x)?\")\n",
        "default:\n",
        "    print(\"Everything tastes good in soup.\")\n",
        "}"
      ],
      "execution_count": 0,
      "outputs": [
        {
          "output_type": "stream",
          "text": [
            "Is it a spicy red pepper?\r\n"
          ],
          "name": "stdout"
        }
      ]
    },
    {
      "metadata": {
        "id": "AXaHBPiidE2g",
        "colab_type": "text"
      },
      "cell_type": "markdown",
      "source": [
        "#### Experiment\n",
        "\n",
        "Try removing the default case. What error do you get?\n",
        "\n",
        "Notice how `let` can be used in a pattern to assign the value that matched that part of a pattern to a constant.\n",
        "\n",
        "After executing the code inside the switch case that matched, the program exits from the switch statement. Execution doesn’t continue to the next case, so there is no need to explicitly break out of the switch at the end of each case’s code.\n",
        "\n",
        "You use `for`-`in` to iterate over items in a dictionary by providing a pair of names to use for each key-value pair. Dictionaries are an unordered collection, so their keys and values are iterated over in an arbitrary order."
      ]
    },
    {
      "metadata": {
        "id": "nJHpFEDPdE2h",
        "colab_type": "code",
        "outputId": "4c0c3850-5c91-44df-bcf5-6b016ab7f9a1",
        "colab": {
          "base_uri": "https://localhost:8080/",
          "height": 34
        }
      },
      "cell_type": "code",
      "source": [
        "let interestingNumbers = [\n",
        "    \"Prime\": [2, 3, 5, 7, 11, 13],\n",
        "    \"Fibonacci\": [1, 1, 2, 3, 5, 8],\n",
        "    \"Square\": [1, 4, 9, 16, 25],\n",
        "]\n",
        "var largest = 0\n",
        "for (kind, numbers) in interestingNumbers {\n",
        "    for number in numbers {\n",
        "        if number > largest {\n",
        "            largest = number\n",
        "        }\n",
        "    }\n",
        "}\n",
        "largest"
      ],
      "execution_count": 0,
      "outputs": [
        {
          "output_type": "execute_result",
          "data": {
            "text/plain": [
              "25\n"
            ]
          },
          "metadata": {
            "tags": []
          },
          "execution_count": 21
        }
      ]
    },
    {
      "metadata": {
        "id": "vELBvy_9dE2l",
        "colab_type": "text"
      },
      "cell_type": "markdown",
      "source": [
        "#### Experiment\n",
        "\n",
        "Add another variable to keep track of which kind of number was the largest, as well as what that largest number was.\n",
        "\n",
        "Use `while` to repeat a block of code until a condition changes. The condition of a loop can be at the end instead, ensuring that the loop is run at least once."
      ]
    },
    {
      "metadata": {
        "id": "tt54-NuJdE2m",
        "colab_type": "code",
        "outputId": "705da423-9d93-4c82-b163-93742742d4bd",
        "colab": {
          "base_uri": "https://localhost:8080/",
          "height": 34
        }
      },
      "cell_type": "code",
      "source": [
        "var n = 2\n",
        "while n < 100 {\n",
        "    n = n * 2\n",
        "}\n",
        "\n",
        "n"
      ],
      "execution_count": 0,
      "outputs": [
        {
          "output_type": "execute_result",
          "data": {
            "text/plain": [
              "128\n"
            ]
          },
          "metadata": {
            "tags": []
          },
          "execution_count": 26
        }
      ]
    },
    {
      "metadata": {
        "id": "adAijrWkiAGF",
        "colab_type": "code",
        "outputId": "d2cc4dbc-775b-4530-d764-7f886c259b7f",
        "colab": {
          "base_uri": "https://localhost:8080/",
          "height": 34
        }
      },
      "cell_type": "code",
      "source": [
        "var m = 2\n",
        "repeat {\n",
        "    m = m * 2\n",
        "} while m < 100\n",
        "\n",
        "m"
      ],
      "execution_count": 0,
      "outputs": [
        {
          "output_type": "execute_result",
          "data": {
            "text/plain": [
              "128\n"
            ]
          },
          "metadata": {
            "tags": []
          },
          "execution_count": 27
        }
      ]
    },
    {
      "metadata": {
        "id": "DqEff6OfdE2q",
        "colab_type": "text"
      },
      "cell_type": "markdown",
      "source": [
        "You can keep an index in a loop—either by using `..<` to make a range of indexes or by writing an explicit initialization, condition, and increment. These two loops do the same thing:"
      ]
    },
    {
      "metadata": {
        "id": "LKkJ4co_dE2r",
        "colab_type": "code",
        "outputId": "9e3010f6-ff11-47d0-809b-f82b1a5b510e",
        "colab": {
          "base_uri": "https://localhost:8080/",
          "height": 34
        }
      },
      "cell_type": "code",
      "source": [
        "var total = 0\n",
        "for i in 0..<4 {\n",
        "    total += i\n",
        "}\n",
        "\n",
        "total"
      ],
      "execution_count": 0,
      "outputs": [
        {
          "output_type": "execute_result",
          "data": {
            "text/plain": [
              "6\n"
            ]
          },
          "metadata": {
            "tags": []
          },
          "execution_count": 28
        }
      ]
    },
    {
      "metadata": {
        "id": "HKgeaTprdE2t",
        "colab_type": "text"
      },
      "cell_type": "markdown",
      "source": [
        "Use `..<` to make a range that omits its upper value, and use `...` to make a range that includes both values."
      ]
    },
    {
      "metadata": {
        "id": "W7H3ptGaiEcB",
        "colab_type": "text"
      },
      "cell_type": "markdown",
      "source": [
        "### Functions and Closures\n",
        "\n",
        "Use `func` to declare a function. Call a function by following its name with a list of arguments in parentheses. Use `->` to separate the parameter names and types from the function’s return type."
      ]
    },
    {
      "metadata": {
        "id": "6u_fX5SwdE2t",
        "colab_type": "code",
        "outputId": "ea064f0e-ec29-459a-f77d-b95abf7fa596",
        "colab": {
          "base_uri": "https://localhost:8080/",
          "height": 34
        }
      },
      "cell_type": "code",
      "source": [
        "func greet(name: String, day: String) -> String {\n",
        "    return \"Hello \\(name), today is \\(day).\"\n",
        "}\n",
        "greet(name: \"Bob\", day: \"Tuesday\")"
      ],
      "execution_count": 0,
      "outputs": [
        {
          "output_type": "execute_result",
          "data": {
            "text/plain": [
              "\"Hello Bob, today is Tuesday.\"\n"
            ]
          },
          "metadata": {
            "tags": []
          },
          "execution_count": 29
        }
      ]
    },
    {
      "metadata": {
        "id": "aVAMxeTxdE2v",
        "colab_type": "text"
      },
      "cell_type": "markdown",
      "source": [
        "#### Experiment\n",
        "\n",
        "Remove the `day` parameter. Add a parameter to include today’s lunch special in the greeting."
      ]
    },
    {
      "metadata": {
        "id": "Mo9D_hc0jfkF",
        "colab_type": "text"
      },
      "cell_type": "markdown",
      "source": [
        "By default, functions use their parameter names as labels for their arguments. Write a custom argument label before the parameter name, or write `_` to use no argument label."
      ]
    },
    {
      "metadata": {
        "id": "8Dkx71QUjisV",
        "colab_type": "code",
        "outputId": "90656683-4673-4ee3-a454-43b6eb777d59",
        "colab": {
          "base_uri": "https://localhost:8080/",
          "height": 34
        }
      },
      "cell_type": "code",
      "source": [
        "func greet(_ person: String, on day: String) -> String {\n",
        "    return \"Hello \\(person), today is \\(day).\"\n",
        "}\n",
        "greet(\"John\", on: \"Wednesday\")"
      ],
      "execution_count": 0,
      "outputs": [
        {
          "output_type": "execute_result",
          "data": {
            "text/plain": [
              "\"Hello John, today is Wednesday.\"\n"
            ]
          },
          "metadata": {
            "tags": []
          },
          "execution_count": 17
        }
      ]
    },
    {
      "metadata": {
        "id": "71qFe0AWjd9F",
        "colab_type": "text"
      },
      "cell_type": "markdown",
      "source": [
        "Use a tuple to make a compound value—for example, to return multiple values from a function. The elements of a tuple can be referred to either by name or by number."
      ]
    },
    {
      "metadata": {
        "id": "5cDR7-TydE2w",
        "colab_type": "code",
        "outputId": "478bfe25-b50e-4795-cc11-39d192494a2b",
        "colab": {
          "base_uri": "https://localhost:8080/",
          "height": 51
        }
      },
      "cell_type": "code",
      "source": [
        "func calculateStatistics(scores: [Int]) -> (min: Int, max: Int, sum: Int) {\n",
        "    var min = scores[0]\n",
        "    var max = scores[0]\n",
        "    var sum = 0\n",
        "    \n",
        "    for score in scores {\n",
        "        if score > max {\n",
        "            max = score\n",
        "        } else if score < min {\n",
        "            min = score\n",
        "        }\n",
        "        sum += score\n",
        "    }\n",
        "    \n",
        "    return (min, max, sum)\n",
        "}\n",
        "let statistics = calculateStatistics(scores: [5, 3, 100, 3, 9])\n",
        "print(statistics.sum)\n",
        "print(statistics.2)"
      ],
      "execution_count": 0,
      "outputs": [
        {
          "output_type": "stream",
          "text": [
            "120\r\n",
            "120\r\n"
          ],
          "name": "stdout"
        }
      ]
    },
    {
      "metadata": {
        "id": "hHUWHaH-jwmx",
        "colab_type": "text"
      },
      "cell_type": "markdown",
      "source": [
        "Functions can be nested. Nested functions have access to variables that were declared in the outer function. You can use nested functions to organize the code in a function that is long or complex."
      ]
    },
    {
      "metadata": {
        "id": "K094099VdE21",
        "colab_type": "code",
        "outputId": "2de309b5-d172-4251-b854-7d8e3a394ad8",
        "colab": {
          "base_uri": "https://localhost:8080/",
          "height": 34
        }
      },
      "cell_type": "code",
      "source": [
        "func returnFifteen() -> Int {\n",
        "    var y = 10\n",
        "    func add() {\n",
        "        y += 5\n",
        "    }\n",
        "    add()\n",
        "    return y\n",
        "}\n",
        "returnFifteen()"
      ],
      "execution_count": 0,
      "outputs": [
        {
          "output_type": "execute_result",
          "data": {
            "text/plain": [
              "15\n"
            ]
          },
          "metadata": {
            "tags": []
          },
          "execution_count": 31
        }
      ]
    },
    {
      "metadata": {
        "id": "s8hfkf4HdE24",
        "colab_type": "text"
      },
      "cell_type": "markdown",
      "source": [
        "Functions are a first-class type. This means that a function can return another function as its value."
      ]
    },
    {
      "metadata": {
        "id": "sV33PIdsdE26",
        "colab_type": "code",
        "outputId": "6e9b71df-b4e1-4998-c554-a27dc3f667da",
        "colab": {
          "base_uri": "https://localhost:8080/",
          "height": 34
        }
      },
      "cell_type": "code",
      "source": [
        "func makeIncrementer() -> ((Int) -> Int) {\n",
        "    func addOne(number: Int) -> Int {\n",
        "        return 1 + number\n",
        "    }\n",
        "    return addOne\n",
        "}\n",
        "var increment = makeIncrementer()\n",
        "increment(7)"
      ],
      "execution_count": 0,
      "outputs": [
        {
          "output_type": "execute_result",
          "data": {
            "text/plain": [
              "8\n"
            ]
          },
          "metadata": {
            "tags": []
          },
          "execution_count": 32
        }
      ]
    },
    {
      "metadata": {
        "id": "J6-9e3godE29",
        "colab_type": "text"
      },
      "cell_type": "markdown",
      "source": [
        "A function can take another function as one of its arguments."
      ]
    },
    {
      "metadata": {
        "id": "nOwBtGWLdE2-",
        "colab_type": "code",
        "outputId": "c75a68c8-1cb2-4ee1-91ba-7ff9d6250d9d",
        "colab": {
          "base_uri": "https://localhost:8080/",
          "height": 34
        }
      },
      "cell_type": "code",
      "source": [
        "func hasAnyMatches(list: [Int], condition: (Int) -> Bool) -> Bool {\n",
        "    for item in list {\n",
        "        if condition(item) {\n",
        "            return true\n",
        "        }\n",
        "    }\n",
        "    return false\n",
        "}\n",
        "func lessThanTen(number: Int) -> Bool {\n",
        "    return number < 10\n",
        "}\n",
        "var numbers = [20, 19, 7, 12]\n",
        "hasAnyMatches(list: numbers, condition: lessThanTen)"
      ],
      "execution_count": 0,
      "outputs": [
        {
          "output_type": "execute_result",
          "data": {
            "text/plain": [
              "true\n"
            ]
          },
          "metadata": {
            "tags": []
          },
          "execution_count": 47
        }
      ]
    },
    {
      "metadata": {
        "id": "u9uVmoK6dE3B",
        "colab_type": "text"
      },
      "cell_type": "markdown",
      "source": [
        "Functions are actually a special case of closures: blocks of code that can be called later. The code in a closure has access to things like variables and functions that were available in the scope where the closure was created, even if the closure is in a different scope when it is executed—you saw an example of this already with nested functions. You can write a closure without a name by surrounding code with braces (`{}`). Use `in` to separate the arguments and return type from the body."
      ]
    },
    {
      "metadata": {
        "id": "qWTL5QMKdE3C",
        "colab_type": "code",
        "outputId": "c7d3b9f5-8fbd-480d-fe49-8370091e6980",
        "colab": {
          "base_uri": "https://localhost:8080/",
          "height": 102
        }
      },
      "cell_type": "code",
      "source": [
        "numbers.map({\n",
        "    (number: Int) -> Int in\n",
        "    let result = 3 * number\n",
        "    return result\n",
        "})"
      ],
      "execution_count": 0,
      "outputs": [
        {
          "output_type": "execute_result",
          "data": {
            "text/plain": [
              "▿ 4 elements\n",
              "  - 0 : 60\n",
              "  - 1 : 57\n",
              "  - 2 : 21\n",
              "  - 3 : 36\n"
            ]
          },
          "metadata": {
            "tags": []
          },
          "execution_count": 48
        }
      ]
    },
    {
      "metadata": {
        "id": "Z5RYGu-ddE3E",
        "colab_type": "text"
      },
      "cell_type": "markdown",
      "source": [
        "#### Experiment\n",
        "\n",
        "Rewrite the closure to return zero for all odd numbers."
      ]
    },
    {
      "metadata": {
        "id": "NapuA70Qj8QF",
        "colab_type": "text"
      },
      "cell_type": "markdown",
      "source": [
        "You have several options for writing closures more concisely. When a closure’s type is already known, such as the callback for a delegate, you can omit the type of its parameters, its return type, or both. Single statement closures implicitly return the value of their only statement."
      ]
    },
    {
      "metadata": {
        "id": "wNcmSyFodE3F",
        "colab_type": "code",
        "outputId": "bf809ae8-19f5-42d4-84c6-73a3eb4a1fbd",
        "colab": {
          "base_uri": "https://localhost:8080/",
          "height": 34
        }
      },
      "cell_type": "code",
      "source": [
        "let mappedNumbers = numbers.map({ number in 3 * number })\n",
        "print(mappedNumbers)"
      ],
      "execution_count": 0,
      "outputs": [
        {
          "output_type": "stream",
          "text": [
            "[60, 57, 21, 36]\r\n"
          ],
          "name": "stdout"
        }
      ]
    },
    {
      "metadata": {
        "id": "6MxBFQjRdE3I",
        "colab_type": "text"
      },
      "cell_type": "markdown",
      "source": [
        "You can refer to parameters by number instead of by name—this approach is especially useful in very short closures. A closure passed as the last argument to a function can appear immediately after the parentheses. When a closure is the only argument to a function, you can omit the parentheses entirely."
      ]
    },
    {
      "metadata": {
        "id": "6Ecv1ethdE3I",
        "colab_type": "code",
        "outputId": "a1bbaaac-ae65-472b-82d0-dc162544886e",
        "colab": {
          "base_uri": "https://localhost:8080/",
          "height": 34
        }
      },
      "cell_type": "code",
      "source": [
        "let sortedNumbers = numbers.sorted { $0 > $1 }\n",
        "print(sortedNumbers)"
      ],
      "execution_count": 0,
      "outputs": [
        {
          "output_type": "stream",
          "text": [
            "[20, 19, 12, 7]\r\n"
          ],
          "name": "stdout"
        }
      ]
    },
    {
      "metadata": {
        "id": "BfV1d5HpdE3K",
        "colab_type": "text"
      },
      "cell_type": "markdown",
      "source": [
        "### Objects and Classes\n",
        "\n",
        "Use `class` followed by the class’s name to create a class. A property declaration in a class is written the same way as a constant or variable declaration, except that it is in the context of a class. Likewise, method and function declarations are written the same way."
      ]
    },
    {
      "metadata": {
        "id": "SycTCbxadE3L",
        "colab_type": "code",
        "colab": {}
      },
      "cell_type": "code",
      "source": [
        "class Shape {\n",
        "    var numberOfSides = 0\n",
        "    func simpleDescription() -> String {\n",
        "        return \"A shape with \\(numberOfSides) sides.\"\n",
        "    }\n",
        "}"
      ],
      "execution_count": 0,
      "outputs": []
    },
    {
      "metadata": {
        "id": "fAi590yRdE3O",
        "colab_type": "text"
      },
      "cell_type": "markdown",
      "source": [
        "#### Experiment\n",
        "\n",
        "Add a constant property with `let`, and add another method that takes an argument."
      ]
    },
    {
      "metadata": {
        "id": "NDuIuzgUkAEY",
        "colab_type": "text"
      },
      "cell_type": "markdown",
      "source": [
        "Create an instance of a class by putting parentheses after the class name. Use dot syntax to access the properties and methods of the instance."
      ]
    },
    {
      "metadata": {
        "id": "y1_AYUbidE3O",
        "colab_type": "code",
        "colab": {}
      },
      "cell_type": "code",
      "source": [
        "var shape = Shape()\n",
        "shape.numberOfSides = 7\n",
        "var shapeDescription = shape.simpleDescription()"
      ],
      "execution_count": 0,
      "outputs": []
    },
    {
      "metadata": {
        "id": "id0q1vIfdE3Q",
        "colab_type": "text"
      },
      "cell_type": "markdown",
      "source": [
        "This version of the `Shape` class is missing something important: an initializer to set up the class when an instance is created. Use `init` to create one."
      ]
    },
    {
      "metadata": {
        "id": "lboFcMVtdE3Q",
        "colab_type": "code",
        "colab": {}
      },
      "cell_type": "code",
      "source": [
        "class NamedShape {\n",
        "    var numberOfSides: Int = 0\n",
        "    var name: String\n",
        "    \n",
        "    init(name: String) {\n",
        "        self.name = name\n",
        "    }\n",
        "    \n",
        "    func simpleDescription() -> String {\n",
        "        return \"A shape with \\(numberOfSides) sides.\"\n",
        "    }\n",
        "}"
      ],
      "execution_count": 0,
      "outputs": []
    },
    {
      "metadata": {
        "id": "h06b-4fKdE3S",
        "colab_type": "text"
      },
      "cell_type": "markdown",
      "source": [
        "Notice how `self` is used to distinguish the `name` property from the `name` argument to the initializer. The arguments to the initializer are passed like a function call when you create an instance of the class. Every property needs a value assigned—either in its declaration (as with `numberOfSides`) or in the initializer (as with `name`).\n",
        "\n",
        "Use `deinit` to create a deinitializer if you need to perform some cleanup before the object is deallocated.\n",
        "\n",
        "Subclasses include their superclass name after their class name, separated by a colon. There is no requirement for classes to subclass any standard root class, so you can include or omit a superclass as needed.\n",
        "\n",
        "Methods on a subclass that override the superclass’s implementation are marked with `override`—overriding a method by accident, without `override`, is detected by the compiler as an error. The compiler also detects methods with `override` that don’t actually override any method in the superclass."
      ]
    },
    {
      "metadata": {
        "id": "UpqqKA1odE3U",
        "colab_type": "text"
      },
      "cell_type": "markdown",
      "source": [
        "#### Experiment\n",
        "\n",
        "Make another subclass of `NamedShape` called `Circle` that takes a radius and a name as arguments to its initializer. Implement an `area()` and a `simpleDescription()` method on the `Circle` class."
      ]
    },
    {
      "metadata": {
        "id": "VHT1Lpz8dE3S",
        "colab_type": "code",
        "outputId": "ba7cef82-953d-46ab-8f09-570383fb89ff",
        "colab": {
          "base_uri": "https://localhost:8080/",
          "height": 34
        }
      },
      "cell_type": "code",
      "source": [
        "class Square: NamedShape {\n",
        "    var sideLength: Double\n",
        "    \n",
        "    init(sideLength: Double, name: String) {\n",
        "        self.sideLength = sideLength\n",
        "        super.init(name: name)\n",
        "        numberOfSides = 4\n",
        "    }\n",
        "    \n",
        "    func area() -> Double {\n",
        "        return sideLength * sideLength\n",
        "    }\n",
        "    \n",
        "    override func simpleDescription() -> String {\n",
        "        return \"A square with sides of length \\(sideLength).\"\n",
        "    }\n",
        "}\n",
        "let test = Square(sideLength: 5.2, name: \"my test square\")\n",
        "test.area()\n",
        "test.simpleDescription()"
      ],
      "execution_count": 0,
      "outputs": [
        {
          "output_type": "execute_result",
          "data": {
            "text/plain": [
              "\"A square with sides of length 5.2.\"\n"
            ]
          },
          "metadata": {
            "tags": []
          },
          "execution_count": 54
        }
      ]
    },
    {
      "metadata": {
        "id": "-jWyfN7KkDqR",
        "colab_type": "text"
      },
      "cell_type": "markdown",
      "source": [
        "In addition to simple properties that are stored, properties can have a getter and a setter."
      ]
    },
    {
      "metadata": {
        "id": "QaqZC56MdE3V",
        "colab_type": "code",
        "outputId": "aff73038-2ab2-4c58-ec16-68dc2482d07d",
        "colab": {
          "base_uri": "https://localhost:8080/",
          "height": 51
        }
      },
      "cell_type": "code",
      "source": [
        "class EquilateralTriangle: NamedShape {\n",
        "    var sideLength: Double = 0.0\n",
        "    \n",
        "    init(sideLength: Double, name: String) {\n",
        "        self.sideLength = sideLength\n",
        "        super.init(name: name)\n",
        "        numberOfSides = 3\n",
        "    }\n",
        "    \n",
        "    var perimeter: Double {\n",
        "        get {\n",
        "            return 3.0 * sideLength\n",
        "        }\n",
        "        set {\n",
        "            sideLength = newValue / 3.0\n",
        "        }\n",
        "    }\n",
        "    \n",
        "    override func simpleDescription() -> String {\n",
        "        return \"An equilateral triangle with sides of length \\(sideLength).\"\n",
        "    }\n",
        "}\n",
        "var triangle = EquilateralTriangle(sideLength: 3.1, name: \"a triangle\")\n",
        "print(triangle.perimeter)\n",
        "triangle.perimeter = 9.9\n",
        "print(triangle.sideLength)"
      ],
      "execution_count": 0,
      "outputs": [
        {
          "output_type": "stream",
          "text": [
            "9.3\r\n",
            "3.3000000000000003\r\n"
          ],
          "name": "stdout"
        }
      ]
    },
    {
      "metadata": {
        "id": "CK3s64WhdE3W",
        "colab_type": "text"
      },
      "cell_type": "markdown",
      "source": [
        "In the setter for `perimeter`, the new value has the implicit name `newValue`. You can provide an explicit name in parentheses after `set`.\n",
        "\n",
        "Notice that the initializer for the `EquilateralTriangle` class has three different steps:\n",
        "\n",
        "1.  Setting the value of properties that the subclass declares.\n",
        "\n",
        "2.  Calling the superclass’s initializer.\n",
        "\n",
        "3.  Changing the value of properties defined by the superclass. Any additional setup work that uses methods, getters, or setters can also be done at this point.\n",
        "\n",
        "If you don’t need to compute the property but still need to provide code that is run before and after setting a new value, use `willSet` and `didSet`. The code you provide is run any time the value changes outside of an initializer. For example, the class below ensures that the side length of its triangle is always the same as the side length of its square."
      ]
    },
    {
      "metadata": {
        "id": "VSPCTz5mdE3a",
        "colab_type": "code",
        "outputId": "3011bc51-a339-423b-c7ae-0ecfa0ef8e51",
        "colab": {
          "base_uri": "https://localhost:8080/",
          "height": 68
        }
      },
      "cell_type": "code",
      "source": [
        "class TriangleAndSquare {\n",
        "    var triangle: EquilateralTriangle {\n",
        "        willSet {\n",
        "            square.sideLength = newValue.sideLength\n",
        "        }\n",
        "    }\n",
        "    var square: Square {\n",
        "        willSet {\n",
        "            triangle.sideLength = newValue.sideLength\n",
        "        }\n",
        "    }\n",
        "    init(size: Double, name: String) {\n",
        "        square = Square(sideLength: size, name: name)\n",
        "        triangle = EquilateralTriangle(sideLength: size, name: name)\n",
        "    }\n",
        "}\n",
        "var triangleAndSquare = TriangleAndSquare(size: 10, name: \"another test shape\")\n",
        "print(triangleAndSquare.square.sideLength)\n",
        "print(triangleAndSquare.triangle.sideLength)\n",
        "triangleAndSquare.square = Square(sideLength: 50, name: \"larger square\")\n",
        "print(triangleAndSquare.triangle.sideLength)"
      ],
      "execution_count": 0,
      "outputs": [
        {
          "output_type": "stream",
          "text": [
            "10.0\r\n",
            "10.0\r\n",
            "50.0\r\n"
          ],
          "name": "stdout"
        }
      ]
    },
    {
      "metadata": {
        "id": "ygWAN55xdE3b",
        "colab_type": "text"
      },
      "cell_type": "markdown",
      "source": [
        "When working with optional values, you can write `?` before operations like methods, properties, and subscripting. If the value before the `?` is `nil`, everything after the `?` is ignored and the value of the whole expression is `nil`. Otherwise, the optional value is unwrapped, and everything after the `?` acts on the unwrapped value. In both cases, the value of the whole expression is an optional value."
      ]
    },
    {
      "metadata": {
        "id": "pmXsLt_gdE3c",
        "colab_type": "code",
        "outputId": "31169948-a490-44bd-bc08-d6b29f1be9ee",
        "colab": {
          "base_uri": "https://localhost:8080/",
          "height": 51
        }
      },
      "cell_type": "code",
      "source": [
        "let optionalSquare: Square? = Square(sideLength: 2.5, name: \"optional square\")\n",
        "optionalSquare?.sideLength"
      ],
      "execution_count": 0,
      "outputs": [
        {
          "output_type": "execute_result",
          "data": {
            "text/plain": [
              "▿ Optional<Double>\n",
              "  - some : 2.5\n"
            ]
          },
          "metadata": {
            "tags": []
          },
          "execution_count": 58
        }
      ]
    },
    {
      "metadata": {
        "id": "0yaZFHMRdE3d",
        "colab_type": "text"
      },
      "cell_type": "markdown",
      "source": [
        "### Enumerations and Structures\n",
        "\n",
        "Use `enum` to create an enumeration. Like classes and all other named types, enumerations can have methods associated with them."
      ]
    },
    {
      "metadata": {
        "id": "Btg1_6rXdE3e",
        "colab_type": "code",
        "outputId": "192eb157-8db2-401f-c6e5-55c613c83720",
        "colab": {
          "base_uri": "https://localhost:8080/",
          "height": 51
        }
      },
      "cell_type": "code",
      "source": [
        "enum Rank: Int {\n",
        "    case Ace = 1\n",
        "    case Two, Three, Four, Five, Six, Seven, Eight, Nine, Ten\n",
        "    case Jack, Queen, King\n",
        "    func simpleDescription() -> String {\n",
        "        switch self {\n",
        "        case .Ace:\n",
        "            return \"ace\"\n",
        "        case .Jack:\n",
        "            return \"jack\"\n",
        "        case .Queen:\n",
        "            return \"queen\"\n",
        "        case .King:\n",
        "            return \"king\"\n",
        "        default:\n",
        "            return String(self.rawValue)\n",
        "        }\n",
        "    }\n",
        "}\n",
        "let ace = Rank.Ace\n",
        "print(ace)\n",
        "let aceRawValue = ace.rawValue\n",
        "print(aceRawValue)"
      ],
      "execution_count": 0,
      "outputs": [
        {
          "output_type": "stream",
          "text": [
            "Ace\r\n",
            "1\r\n"
          ],
          "name": "stdout"
        }
      ]
    },
    {
      "metadata": {
        "id": "S1McMrtsdE3h",
        "colab_type": "text"
      },
      "cell_type": "markdown",
      "source": [
        "#### Experiment\n",
        "\n",
        "Write a function that compares two `Rank` values by comparing their raw values."
      ]
    },
    {
      "metadata": {
        "id": "0R1w6q3KkIH1",
        "colab_type": "text"
      },
      "cell_type": "markdown",
      "source": [
        "By default, Swift assigns the raw values starting at zero and incrementing by one each time, but you can change this behavior by explicitly specifying values. In the example above, Ace is explicitly given a raw value of `1`, and the rest of the raw values are assigned in order. You can also use strings or floating-point numbers as the raw type of an enumeration. Use the `rawValue` property to access the raw value of an enumeration case.\n",
        "\n",
        "Use the `init?(rawValue:)` initializer to make an instance of an enumeration from a raw value."
      ]
    },
    {
      "metadata": {
        "id": "BjzxKC67dE3h",
        "colab_type": "code",
        "colab": {}
      },
      "cell_type": "code",
      "source": [
        "if let convertedRank = Rank(rawValue: 3) {\n",
        "    let threeDescription = convertedRank.simpleDescription()\n",
        "}"
      ],
      "execution_count": 0,
      "outputs": []
    },
    {
      "metadata": {
        "id": "aViNXJOWdE3k",
        "colab_type": "text"
      },
      "cell_type": "markdown",
      "source": [
        "The case values of an enumeration are actual values, not just another way of writing their raw values. In fact, in cases where there isn’t a meaningful raw value, you don’t have to provide one."
      ]
    },
    {
      "metadata": {
        "id": "i9fKzaQzdE3k",
        "colab_type": "code",
        "outputId": "cc39678d-6e07-422d-916f-c938d750672d",
        "colab": {
          "base_uri": "https://localhost:8080/",
          "height": 34
        }
      },
      "cell_type": "code",
      "source": [
        "enum Suit {\n",
        "    case Spades, Hearts, Diamonds, Clubs\n",
        "    func simpleDescription() -> String {\n",
        "        switch self {\n",
        "        case .Spades:\n",
        "            return \"spades\"\n",
        "        case .Hearts:\n",
        "            return \"hearts\"\n",
        "        case .Diamonds:\n",
        "            return \"diamonds\"\n",
        "        case .Clubs:\n",
        "            return \"clubs\"\n",
        "        }\n",
        "    }\n",
        "}\n",
        "let hearts = Suit.Hearts\n",
        "hearts.simpleDescription()"
      ],
      "execution_count": 0,
      "outputs": [
        {
          "output_type": "execute_result",
          "data": {
            "text/plain": [
              "\"hearts\"\n"
            ]
          },
          "metadata": {
            "tags": []
          },
          "execution_count": 68
        }
      ]
    },
    {
      "metadata": {
        "id": "4MQ__95bkbNY",
        "colab_type": "text"
      },
      "cell_type": "markdown",
      "source": [
        "#### Experiment\n",
        "\n",
        "Add a `color()` method to `Suit` that returns “black” for spades and clubs, and returns “red” for hearts and diamonds."
      ]
    },
    {
      "metadata": {
        "id": "H1B0m_prdE3m",
        "colab_type": "text"
      },
      "cell_type": "markdown",
      "source": [
        "Notice the two ways that the `Hearts` case of the enumeration is referred to above: When assigning a value to the `hearts` constant, the enumeration case `Suit.Hearts` is referred to by its full name because the constant doesn’t have an explicit type specified. Inside the switch, the enumeration case is referred to by the abbreviated form `.Hearts` because the value of `self` is already known to be a suit. You can use the abbreviated form anytime the value’s type is already known.\n",
        "\n",
        "Use `struct` to create a structure. Structures support many of the same behaviors as classes, including methods and initializers. One of the most important differences between structures and classes is that structures are always copied when they are passed around in your code, but classes are passed by reference."
      ]
    },
    {
      "metadata": {
        "id": "zFQuwYcJdE3m",
        "colab_type": "code",
        "outputId": "a5709a13-b72e-4f9c-e7dc-5ed66343a2e9",
        "colab": {
          "base_uri": "https://localhost:8080/",
          "height": 34
        }
      },
      "cell_type": "code",
      "source": [
        "struct Card {\n",
        "    var rank: Rank\n",
        "    var suit: Suit\n",
        "    func simpleDescription() -> String {\n",
        "        return \"The \\(rank.simpleDescription()) of \\(suit.simpleDescription())\"\n",
        "    }\n",
        "}\n",
        "let threeOfSpades = Card(rank: .Three, suit: .Spades)\n",
        "threeOfSpades.simpleDescription()"
      ],
      "execution_count": 0,
      "outputs": [
        {
          "output_type": "execute_result",
          "data": {
            "text/plain": [
              "\"The 3 of spades\"\n"
            ]
          },
          "metadata": {
            "tags": []
          },
          "execution_count": 69
        }
      ]
    },
    {
      "metadata": {
        "id": "Z33II4cYkeGI",
        "colab_type": "text"
      },
      "cell_type": "markdown",
      "source": [
        "#### Experiment\n",
        "\n",
        "Add a method to `Card` that creates a full deck of cards, with one card of each combination of rank and suit."
      ]
    },
    {
      "metadata": {
        "id": "fCDHUHBHdE3o",
        "colab_type": "text"
      },
      "cell_type": "markdown",
      "source": [
        "An instance of an enumeration case can have values associated with the instance. Instances of the same enumeration case can have different values associated with them. You provide the associated values when you create the instance. Associated values and raw values are different: The raw value of an enumeration case is the same for all of its instances, and you provide the raw value when you define the enumeration.\n",
        "\n",
        "For example, consider the case of requesting the sunrise and sunset time from a server. The server either responds with the information or it responds with some error information."
      ]
    },
    {
      "metadata": {
        "id": "v7CDdsdydE3o",
        "colab_type": "code",
        "outputId": "02469af8-4d7e-43f6-a47e-a36bc2a65538",
        "colab": {
          "base_uri": "https://localhost:8080/",
          "height": 34
        }
      },
      "cell_type": "code",
      "source": [
        "enum ServerResponse {\n",
        "    case Result(String, String)\n",
        "    case Error(String)\n",
        "}\n",
        " \n",
        "let success = ServerResponse.Result(\"6:00 am\", \"8:09 pm\")\n",
        "let failure = ServerResponse.Error(\"Out of cheese.\")\n",
        " \n",
        "switch success {\n",
        "case let .Result(sunrise, sunset):\n",
        "    print(\"Sunrise is at \\(sunrise) and sunset is at \\(sunset).\")\n",
        "case let .Error(error):\n",
        "    print(\"Failure...  \\(error)\")\n",
        "}"
      ],
      "execution_count": 0,
      "outputs": [
        {
          "output_type": "stream",
          "text": [
            "Sunrise is at 6:00 am and sunset is at 8:09 pm.\r\n"
          ],
          "name": "stdout"
        }
      ]
    },
    {
      "metadata": {
        "id": "XDQr7Jbukgke",
        "colab_type": "text"
      },
      "cell_type": "markdown",
      "source": [
        "#### Experiment\n",
        "\n",
        "Add a third case to `ServerResponse` and to the switch."
      ]
    },
    {
      "metadata": {
        "id": "BCjUxgx0iKDh",
        "colab_type": "text"
      },
      "cell_type": "markdown",
      "source": [
        "Notice how the sunrise and sunset times are extracted from the `ServerResponse` value as part of matching the value against the switch cases."
      ]
    },
    {
      "metadata": {
        "id": "jUBjQqUhdE3p",
        "colab_type": "text"
      },
      "cell_type": "markdown",
      "source": [
        "### Protocols and Extensions\n",
        "\n",
        "Use `protocol` to declare a protocol."
      ]
    },
    {
      "metadata": {
        "id": "vVEIH7WhdE3q",
        "colab_type": "code",
        "colab": {}
      },
      "cell_type": "code",
      "source": [
        "protocol ExampleProtocol {\n",
        "    var simpleDescription: String { get }\n",
        "    mutating func adjust()\n",
        "}"
      ],
      "execution_count": 0,
      "outputs": []
    },
    {
      "metadata": {
        "id": "GSV2yv6SdE3r",
        "colab_type": "text"
      },
      "cell_type": "markdown",
      "source": [
        "Classes, enumerations, and structs can all adopt protocols."
      ]
    },
    {
      "metadata": {
        "id": "Lgf8If-0dE3r",
        "colab_type": "code",
        "outputId": "f3158cac-36a6-4a52-c8f6-94fa89ee5a69",
        "colab": {
          "base_uri": "https://localhost:8080/",
          "height": 34
        }
      },
      "cell_type": "code",
      "source": [
        "class SimpleClass: ExampleProtocol {\n",
        "    var simpleDescription: String = \"A very simple class.\"\n",
        "    var anotherProperty: Int = 69105\n",
        "    func adjust() {\n",
        "        simpleDescription += \"  Now 100% adjusted.\"\n",
        "    }\n",
        "}\n",
        "var a = SimpleClass()\n",
        "a.adjust()\n",
        "let aDescription = a.simpleDescription\n",
        " \n",
        "struct SimpleStructure: ExampleProtocol {\n",
        "    var simpleDescription: String = \"A simple structure\"\n",
        "    mutating func adjust() {\n",
        "        simpleDescription += \" (adjusted)\"\n",
        "    }\n",
        "}\n",
        "var b = SimpleStructure()\n",
        "b.adjust()\n",
        "b.simpleDescription"
      ],
      "execution_count": 0,
      "outputs": [
        {
          "output_type": "execute_result",
          "data": {
            "text/plain": [
              "\"A simple structure (adjusted)\"\n"
            ]
          },
          "metadata": {
            "tags": []
          },
          "execution_count": 73
        }
      ]
    },
    {
      "metadata": {
        "id": "ce6LPltfk5is",
        "colab_type": "text"
      },
      "cell_type": "markdown",
      "source": [
        "#### Experiment\n",
        "\n",
        "Write an enumeration that conforms to this protocol."
      ]
    },
    {
      "metadata": {
        "id": "Is_xfbNXdE3t",
        "colab_type": "text"
      },
      "cell_type": "markdown",
      "source": [
        "Notice the use of the `mutating` keyword in the declaration of `SimpleStructure` to mark a method that modifies the structure. The declaration of `SimpleClass` doesn’t need any of its methods marked as mutating because methods on a class can always modify the class.\n",
        "\n",
        "Use `extension` to add functionality to an existing type, such as new methods and computed properties. You can use an extension to add protocol conformance to a type that is declared elsewhere, or even to a type that you imported from a library or framework."
      ]
    },
    {
      "metadata": {
        "id": "w5Hde1HwdE3u",
        "colab_type": "code",
        "outputId": "867feb02-d0db-45ba-e733-56740be17024",
        "colab": {
          "base_uri": "https://localhost:8080/",
          "height": 34
        }
      },
      "cell_type": "code",
      "source": [
        "extension Int: ExampleProtocol {\n",
        "    public var simpleDescription: String {\n",
        "        return \"The number \\(self)\"\n",
        "    }\n",
        "    public mutating func adjust() {\n",
        "        self += 42\n",
        "    }\n",
        "}\n",
        "7.simpleDescription"
      ],
      "execution_count": 0,
      "outputs": [
        {
          "output_type": "execute_result",
          "data": {
            "text/plain": [
              "\"The number 7\"\n"
            ]
          },
          "metadata": {
            "tags": []
          },
          "execution_count": 74
        }
      ]
    },
    {
      "metadata": {
        "id": "gzDnawqIdE3v",
        "colab_type": "text"
      },
      "cell_type": "markdown",
      "source": [
        "#### Experiment\n",
        "\n",
        "Write an extension for the `Double` type that adds an `absoluteValue` property."
      ]
    },
    {
      "metadata": {
        "id": "g0wCWqNMiOv-",
        "colab_type": "text"
      },
      "cell_type": "markdown",
      "source": [
        "### Generics\n",
        "\n",
        "Write a name inside angle brackets to make a generic function or type."
      ]
    },
    {
      "metadata": {
        "id": "sMyq1uQsdE3y",
        "colab_type": "code",
        "outputId": "4dae009e-86e4-4697-824f-3d74c16bf4e1",
        "colab": {
          "base_uri": "https://localhost:8080/",
          "height": 102
        }
      },
      "cell_type": "code",
      "source": [
        "func repeatItem<Item>(item: Item, numberOfTimes: Int) -> [Item] {\n",
        "    var result = [Item]()\n",
        "    for _ in 0..<numberOfTimes {\n",
        "        result.append(item)\n",
        "    }\n",
        "    return result\n",
        "}\n",
        "repeatItem(item: \"knock\", numberOfTimes:4)"
      ],
      "execution_count": 0,
      "outputs": [
        {
          "output_type": "execute_result",
          "data": {
            "text/plain": [
              "▿ 4 elements\n",
              "  - 0 : \"knock\"\n",
              "  - 1 : \"knock\"\n",
              "  - 2 : \"knock\"\n",
              "  - 3 : \"knock\"\n"
            ]
          },
          "metadata": {
            "tags": []
          },
          "execution_count": 75
        }
      ]
    },
    {
      "metadata": {
        "id": "If8pw1_7dE3z",
        "colab_type": "text"
      },
      "cell_type": "markdown",
      "source": [
        "You can make generic forms of functions and methods, as well as classes, enumerations, and structures."
      ]
    },
    {
      "metadata": {
        "id": "PrhmI6iNdE30",
        "colab_type": "code",
        "outputId": "a842dc66-a933-4244-fb2e-a2ee30815074",
        "colab": {
          "base_uri": "https://localhost:8080/",
          "height": 34
        }
      },
      "cell_type": "code",
      "source": [
        "// Reimplement the Swift standard library's optional type\n",
        "enum OptionalValue<Wrapped> {\n",
        "    case none\n",
        "    case some(Wrapped)\n",
        "}\n",
        "var possibleInteger: OptionalValue<Int> = .none\n",
        "possibleInteger = .some(100)\n",
        "print(possibleInteger)"
      ],
      "execution_count": 0,
      "outputs": [
        {
          "output_type": "stream",
          "text": [
            "some(100)\r\n"
          ],
          "name": "stdout"
        }
      ]
    },
    {
      "metadata": {
        "id": "NXhFj_GCdE31",
        "colab_type": "text"
      },
      "cell_type": "markdown",
      "source": [
        "Use `where` after the type name to specify a list of requirements — for example, to require the type to implement a protocol, to require two types to be the same, or to require a class to have a particular superclass."
      ]
    },
    {
      "metadata": {
        "id": "EkXn4tmhdE32",
        "colab_type": "code",
        "outputId": "c6b68961-ff96-4582-9d11-700cf892c25f",
        "colab": {
          "base_uri": "https://localhost:8080/",
          "height": 34
        }
      },
      "cell_type": "code",
      "source": [
        "func anyCommonElements<T: Sequence, U: Sequence>(_ lhs: T, _ rhs: U) -> Bool\n",
        "    where T.Element: Equatable, T.Element == U.Element\n",
        "{\n",
        "    for lhsItem in lhs {\n",
        "        for rhsItem in rhs {\n",
        "            if lhsItem == rhsItem {\n",
        "                return true\n",
        "            }\n",
        "        }\n",
        "    }\n",
        "    return false\n",
        "}\n",
        "anyCommonElements([1, 2, 3], [3])"
      ],
      "execution_count": 0,
      "outputs": [
        {
          "output_type": "execute_result",
          "data": {
            "text/plain": [
              "true\n"
            ]
          },
          "metadata": {
            "tags": []
          },
          "execution_count": 79
        }
      ]
    }
  ]
}